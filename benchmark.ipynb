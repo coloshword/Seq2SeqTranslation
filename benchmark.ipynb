{
  "cells": [
    {
      "cell_type": "markdown",
      "metadata": {
        "id": "view-in-github",
        "colab_type": "text"
      },
      "source": [
        "<a href=\"https://colab.research.google.com/github/coloshword/Seq2SeqTranslation/blob/master/benchmark.ipynb\" target=\"_parent\"><img src=\"https://colab.research.google.com/assets/colab-badge.svg\" alt=\"Open In Colab\"/></a>"
      ]
    },
    {
      "cell_type": "markdown",
      "id": "dcd4de2c",
      "metadata": {
        "id": "dcd4de2c"
      },
      "source": [
        "## Benchmarking nn.Linear vs nd.Linear in a Sequence To Sequence Machine Translation Model"
      ]
    },
    {
      "cell_type": "markdown",
      "id": "7fa08f4e",
      "metadata": {
        "id": "7fa08f4e"
      },
      "source": [
        "## Overview\n",
        "**This is my application to Ensemble AI's ML research intern & ML engineering intern positions**\n",
        "\n",
        "We will develop and benchmark two English → Chinese sequence to sequence translators built on an LSTM encoder decoder with Luong (general) attention.\n",
        "The models share the same data pipeline, tokenizer, training schedule, and hyper-parameters; they diverge only in the final output linear layer.\n",
        "\n",
        "a. In the baseline (nn.Linear) model, we generate a context tensor through the attention mechanism, and concatenate the context tensor to the end of the hidden state tensor. This results in a linear layer with parameters: **nn.Linear(2 * hidden_dim, vocab_size)**.\n",
        "\n",
        "- Weights parameter count: $$\n",
        "2 H × V\n",
        "$$\n",
        "\n",
        "b. In the NdLinear version, we take advantage of NdLinear's strength for multidimensional inputs, and treat the context tensor as another row, resulting in an input of shape (2, hidden_dim). This results in a linear layer **NdLinear((2, hidden_dim), (1, vocab_size))**, which is **~50%** the parameters of the standard linear layer.\n",
        "- Weights parameter count:\n",
        "$$\n",
        "(2 * 1) + (H * V)\n",
        "$$\n",
        "\n",
        "\n",
        "We will benchmark the performance of the standard Seq2Seq model to this augmented model using NdLinear, and see how the smaller NdLinear model performs, compared to the larger standard model."
      ]
    },
    {
      "cell_type": "markdown",
      "id": "967e89b3",
      "metadata": {
        "id": "967e89b3"
      },
      "source": [
        "### Imports"
      ]
    },
    {
      "cell_type": "code",
      "execution_count": null,
      "id": "25ae7b7a",
      "metadata": {
        "id": "25ae7b7a"
      },
      "outputs": [],
      "source": [
        "import json\n",
        "import numpy as np\n",
        "import pickle\n",
        "from collections import Counter\n",
        "import string\n",
        "import re\n",
        "import torch\n",
        "import torch.nn as nn\n",
        "import time\n",
        "import matplotlib.pyplot as plt\n",
        "from ndlinear import NdLinear"
      ]
    },
    {
      "cell_type": "code",
      "execution_count": null,
      "id": "efnYrKsz_E9v",
      "metadata": {
        "colab": {
          "base_uri": "https://localhost:8080/"
        },
        "id": "efnYrKsz_E9v",
        "outputId": "852ef033-756e-4500-ea93-11424e46ccd4"
      },
      "outputs": [
        {
          "output_type": "stream",
          "name": "stdout",
          "text": [
            "Mounted at /content/drive\n"
          ]
        }
      ],
      "source": [
        "### Loading colab\n",
        "from google.colab import drive\n",
        "drive.mount('/content/drive', force_remount=True)\n",
        "## root will be added to all paths, to work with drive\n",
        "root = '/content/drive/MyDrive/Seq2SeqModelBenchmarking/' # for colab\n",
        "\n",
        "# root = '' # for local training"
      ]
    },
    {
      "cell_type": "markdown",
      "id": "d07f9661",
      "metadata": {
        "id": "d07f9661"
      },
      "source": [
        "### Dataset & Preprocessing\n",
        "\n",
        "Full Dataset: (https://www.kaggle.com/datasets/qianhuan/translation?resource)\n",
        "- 5.1M English-Chinese sentence pairs\n",
        "- For the sake of the experiment, we will randomly sample 250,000 pairs\n",
        "- also sample 5000 pairs from validation set"
      ]
    },
    {
      "cell_type": "code",
      "execution_count": null,
      "id": "cfee3939",
      "metadata": {
        "colab": {
          "base_uri": "https://localhost:8080/"
        },
        "id": "cfee3939",
        "outputId": "1cd8b672-4f00-491c-beb1-9dbc01e8606e"
      },
      "outputs": [
        {
          "name": "stdout",
          "output_type": "stream",
          "text": [
            "5161434\n",
            "{'english': 'For greater sharpness, but with a slight increase in graininess, you can use a 1:1 dilution of this developer.', 'chinese': '为了更好的锐度，但是附带的会多一些颗粒度，可以使用这个显影剂的1：1稀释液。'}\n"
          ]
        }
      ],
      "source": [
        "train_set_path = root + \"dataset/translation2019zh_train.json\"\n",
        "val_set_path = root + \"dataset/translation2019zh_valid.json\"\n",
        "train_set = []\n",
        "val_set = []\n",
        "\n",
        "with open(train_set_path) as f:\n",
        "    for line in f:\n",
        "        train_set.append(json.loads(line))\n",
        "\n",
        "with open(val_set_path) as f:\n",
        "    for line in f:\n",
        "        val_set.append(json.loads(line))\n",
        "\n",
        "print(len(train_set))\n",
        "print(train_set[0])"
      ]
    },
    {
      "cell_type": "code",
      "execution_count": null,
      "id": "e6823cc8",
      "metadata": {
        "colab": {
          "base_uri": "https://localhost:8080/"
        },
        "id": "e6823cc8",
        "outputId": "8e82d4f9-5131-419d-a848-976a75cf31b1"
      },
      "outputs": [
        {
          "name": "stdout",
          "output_type": "stream",
          "text": [
            "{'english': 'House prices will fall just 3 percent more before stabilizing, or 33 percent from the peak in mid-2006, based on the median forecast.', 'chinese': '预估中值显示,房价止稳前仅有3%的下跌空间,与2006年年中的峰值相较为下跌33%.'}\n"
          ]
        }
      ],
      "source": [
        "### sample 250,000 sentences and save the data\n",
        "sampled_indices = np.random.choice(len(train_set), 250000)\n",
        "\n",
        "train_subset = [train_set[i] for i in sampled_indices]\n",
        "print(train_subset[0])\n",
        "with open(root + 'dataset/train_set_mini.pkl', 'wb') as f:\n",
        "    pickle.dump(train_subset, f)\n",
        "\n",
        "## sample 5000 pairs for validation set\n",
        "val_sampled_indices = np.random.choice(len(val_set), 5000)\n",
        "val_subset = [val_set[i] for i in val_sampled_indices]\n",
        "\n",
        "with open(root + 'dataset/val_set_mini.pkl', 'wb') as f:\n",
        "    pickle.dump(val_subset, f)\n"
      ]
    },
    {
      "cell_type": "code",
      "execution_count": null,
      "id": "4dde9232",
      "metadata": {
        "colab": {
          "base_uri": "https://localhost:8080/"
        },
        "id": "4dde9232",
        "outputId": "00125cd3-30a3-4cec-c600-14aa1cd3f8be"
      },
      "outputs": [
        {
          "output_type": "stream",
          "name": "stdout",
          "text": [
            "{'english': 'House prices will fall just 3 percent more before stabilizing, or 33 percent from the peak in mid-2006, based on the median forecast.', 'chinese': '预估中值显示,房价止稳前仅有3%的下跌空间,与2006年年中的峰值相较为下跌33%.'}\n",
            "{'english': 'However, it contains the contradiction of good producing evil, which gave rise to the dualism of nature from ZHANG Zai to ZHU Xi, a relatively perfect solution to LIs problem.', 'chinese': '但是，李翱的人性论中包含着善性产生邪情的矛盾，正是对这一矛盾的解答引发了宋明性二元论的诞生。'}\n"
          ]
        }
      ],
      "source": [
        "## pull the subset dataset\n",
        "with open(root + 'dataset/train_set_mini.pkl', 'rb') as f:\n",
        "    train_set_mini = pickle.load(f)\n",
        "\n",
        "with open(root + 'dataset/val_set_mini.pkl', 'rb') as f:\n",
        "    val_set_mini = pickle.load(f)\n",
        "\n",
        "print(train_set_mini[0])\n",
        "print(val_set_mini[0])"
      ]
    },
    {
      "cell_type": "markdown",
      "id": "35afe49c",
      "metadata": {
        "id": "35afe49c"
      },
      "source": [
        "### Creating vocabularies:\n",
        "- Maintain a vocabulary for english and chinese.\n",
        "- Limit it to words that appear at least 5 times.\n",
        "- Sequences will be represented as a list of indices, in the order in which they appear in the sentence, e.g. [0, 98, 4532, 12, 1].\n",
        "- These list of sequences will be passed to their appropriate embedding layer."
      ]
    },
    {
      "cell_type": "code",
      "execution_count": null,
      "id": "b91a4670",
      "metadata": {
        "id": "b91a4670"
      },
      "outputs": [],
      "source": [
        "def remove_punctuation(text):\n",
        "    '''\n",
        "    Get rid of all punctuation from string text\n",
        "    '''\n",
        "    return text.translate(str.maketrans('', '', string.punctuation))\n",
        "\n",
        "def get_words_from_sentence(s):\n",
        "    '''\n",
        "    Gets words from sentence\n",
        "    '''\n",
        "    return s.split(' ')\n",
        "\n",
        "def clean_en_pair(pair):\n",
        "    '''\n",
        "    Cleans the english from the pair\n",
        "    '''\n",
        "    return get_words_from_sentence(remove_punctuation(pair['english']).lower())\n",
        "\n",
        "def remove_zh_punctuation(text):\n",
        "    cleaned = re.sub(r'[，。！？【】（）《》“”‘’、]', '', text)\n",
        "    cleaned = re.sub(r'\\s+', '', cleaned)\n",
        "    return cleaned"
      ]
    },
    {
      "cell_type": "code",
      "execution_count": null,
      "id": "aa71b62c",
      "metadata": {
        "colab": {
          "base_uri": "https://localhost:8080/"
        },
        "id": "aa71b62c",
        "outputId": "eec960db-eb9f-43df-d469-22628ae2864e"
      },
      "outputs": [
        {
          "name": "stdout",
          "output_type": "stream",
          "text": [
            "36350\n",
            "5818\n"
          ]
        }
      ],
      "source": [
        "def get_en_vocab(train_set):\n",
        "    '''\n",
        "    get_en_dict:\n",
        "        Gets an english vocab from train_set as a dict\n",
        "    '''\n",
        "    # get only the english sentences, list of strings\n",
        "    en_sentences = [clean_en_pair(pair) for pair in train_set]\n",
        "    en_sentences_flattened = [word for sentence in en_sentences for word in sentence]\n",
        "    en_sentences_flattened = [word for word in en_sentences_flattened if word != '']\n",
        "\n",
        "    word_counts = Counter(en_sentences_flattened)\n",
        "    # with word counts, now we limit the vocabulary to words that happen at least 5 times\n",
        "    en_vocab = {}\n",
        "    # {word: index}\n",
        "    idx = 0\n",
        "    for word in [\"<SOS>\", \"<EOS>\", \"<UNK>\"]:\n",
        "        en_vocab[word] = idx\n",
        "        idx += 1\n",
        "    for word, occurrences in word_counts.items():\n",
        "        if occurrences >= 5:\n",
        "            en_vocab[word] = idx\n",
        "            idx += 1\n",
        "    return en_vocab\n",
        "\n",
        "def get_zh_vocab(train_set):\n",
        "    '''\n",
        "    get_zh_vocab:\n",
        "        Gets an zh vocab from train_set as a dict\n",
        "    '''\n",
        "    zh_sentences = [list(remove_zh_punctuation(pair['chinese'])) for pair in train_set]\n",
        "    zh_sentences_flattened = [word for sentence in zh_sentences for word in sentence]\n",
        "\n",
        "    word_counts = Counter(zh_sentences_flattened)\n",
        "    zh_vocab = {}\n",
        "\n",
        "    idx = 0\n",
        "    for word in [\"<SOS>\", \"<EOS>\", \"<UNK>\"]:\n",
        "        zh_vocab[word] = idx\n",
        "        idx += 1\n",
        "    for word, occurrences in word_counts.items():\n",
        "        if occurrences >= 2:\n",
        "            zh_vocab[word] = idx\n",
        "            idx += 1\n",
        "    return zh_vocab\n",
        "\n",
        "en_vocab = get_en_vocab(train_set_mini)\n",
        "print(len(en_vocab))\n",
        "\n",
        "zh_vocab = get_zh_vocab(train_set_mini)\n",
        "print(len(zh_vocab))"
      ]
    },
    {
      "cell_type": "code",
      "execution_count": null,
      "id": "37f8539c",
      "metadata": {
        "id": "37f8539c"
      },
      "outputs": [],
      "source": [
        "with open(root + 'vocab/en_vocab.pkl', 'wb') as f:\n",
        "    pickle.dump(en_vocab, f)\n",
        "\n",
        "with open(root + 'vocab/zh_vocab.pkl', 'wb') as f:\n",
        "    pickle.dump(zh_vocab, f)"
      ]
    },
    {
      "cell_type": "code",
      "execution_count": null,
      "id": "831a5a7e",
      "metadata": {
        "id": "831a5a7e"
      },
      "outputs": [],
      "source": [
        "with open(root + 'vocab/en_vocab.pkl', 'rb') as f:\n",
        "    en_vocab = pickle.load(f)\n",
        "\n",
        "with open(root + 'vocab/zh_vocab.pkl', 'rb') as f:\n",
        "    zh_vocab = pickle.load(f)"
      ]
    },
    {
      "cell_type": "markdown",
      "id": "d53a3577",
      "metadata": {
        "id": "d53a3577"
      },
      "source": [
        "## Model Architecture\n",
        "- Based mostly on : (https://arxiv.org/pdf/1409.3215), not completely honest to the paper\n",
        "- Model will consist of an Encoder and Decoder, passing in source sequence to encoder, and passing the hidden states from the encoder to the decoder.\n",
        "\n",
        "**Encoder**:\n",
        "- consists of an LSTM and an embedding layer.\n",
        "\n",
        "**Decoder**:\n",
        "- consists of an LSTM, an embedding layer, and a **linear layer** to output logits.\n",
        "- this linear layer is where we can place nd.Linear in place of nn.Linear\n",
        "- forward() has two settings, inference and teacher-forcing. If a \"correct label\" sentence is passed to the forward() function, it will do teacher forcing.\n",
        "\n",
        "**Attention Layer**:\n",
        "- A separate linear matrix to form form the weights of Luong attention.\n"
      ]
    },
    {
      "cell_type": "markdown",
      "id": "f6811eb3",
      "metadata": {
        "id": "f6811eb3"
      },
      "source": [
        "### Model Classes"
      ]
    },
    {
      "cell_type": "code",
      "execution_count": null,
      "id": "2b6e14df",
      "metadata": {
        "id": "2b6e14df"
      },
      "outputs": [],
      "source": [
        "class Encoder(nn.Module):\n",
        "    def __init__(self, embedding_dim, vocab_size, hidden_dim):\n",
        "        super(Encoder, self).__init__()\n",
        "        self.embeddings = nn.Embedding(vocab_size, embedding_dim)\n",
        "        self.LSTM = nn.LSTM(embedding_dim, hidden_dim) # initialize an LSTM, with embedding_dim, and hidden_dim hyperparameters\n",
        "\n",
        "    def forward(self, sentence):\n",
        "        embeds = self.embeddings(sentence)  # remember that sentence has to the in [word_index0, word_index1, word_index2] form\n",
        "        out , (h_n, c_n) = self.LSTM(embeds.view(len(sentence), 1, -1)) # one timestep at a time\n",
        "        return out, (h_n, c_n)"
      ]
    },
    {
      "cell_type": "code",
      "execution_count": null,
      "id": "3f69687d",
      "metadata": {
        "id": "3f69687d"
      },
      "outputs": [],
      "source": [
        "### LUONG ATTENTION LAYER\n",
        "class GeneralAttention(nn.Module):\n",
        "    def __init__(self, hidden_dim, linear_cls=nn.Linear):\n",
        "        super().__init__()\n",
        "        self.linear_layer = linear_cls(hidden_dim, hidden_dim, bias=False)\n",
        "\n",
        "    def forward(self, encoder_outputs):\n",
        "        return self.linear_layer(encoder_outputs)"
      ]
    },
    {
      "cell_type": "code",
      "execution_count": null,
      "id": "5f171f7f",
      "metadata": {
        "id": "5f171f7f"
      },
      "outputs": [],
      "source": [
        "class LuongAttnDecoder(nn.Module):\n",
        "    def __init__(self, embedding_dim, vocab_size, hidden_dim, device, max_response_length, linear_layer):\n",
        "        super(LuongAttnDecoder, self).__init__()\n",
        "        self.embeddings = nn.Embedding(vocab_size, embedding_dim)\n",
        "        self.LSTM = nn.LSTM(embedding_dim, hidden_dim)\n",
        "        self.linear = linear_layer\n",
        "        self.device = device\n",
        "        self.general_attn_layer = GeneralAttention(hidden_dim)\n",
        "        self.max_response_length = max_response_length\n",
        "\n",
        "    def word_to_tensor(self, word):\n",
        "        '''\n",
        "        takes a single wrod and gets the corresponding tensor\n",
        "        '''\n",
        "        word_lst = get_words_from_sentence(remove_zh_punctuation(word))\n",
        "        indices = [zh_vocab[word] for word in word_lst]\n",
        "        # get tensor\n",
        "        return torch.tensor(indices, dtype=torch.long).to(self.device)\n",
        "\n",
        "    def forward(self, hidden, encoder_out, sentence=None):\n",
        "        '''\n",
        "        does the forward propagation. If sentence is provided, then we do teacher-forcing. Else we assume it is inference\n",
        "            Params:\n",
        "                hidden: the hidden state passed from the previous\n",
        "                sentence: a sentence to be used for teacher-forcing, as a tensor\n",
        "                Make sure the teacher-forcing sentence is sliced to not include the last token [:-1]\n",
        "        '''\n",
        "        # teacher-forcing training, we are going to \"undo\" vectorization]\n",
        "        all_outputs = []\n",
        "        if sentence is not None:\n",
        "            embeds_tensor = self.embeddings(sentence)\n",
        "            for word_tensor in embeds_tensor:\n",
        "                out, hidden = self.LSTM(word_tensor.view(1, 1, -1), hidden)\n",
        "                # pass encoder out to attention layer\n",
        "                attn_scores = self.general_attn_layer(encoder_out) @ hidden[0].squeeze()\n",
        "                # now with attn scores, we want to softmax the scores\n",
        "                softmaxed_scores = torch.nn.functional.softmax(attn_scores, dim=0)\n",
        "                # multiply by encoder_out\n",
        "                # now that they are softmaxed, we want to multiply by all encoder states to give a weighted tensor, we can broadcast it as well\n",
        "                weighted_encoder_hidden_states = softmaxed_scores * encoder_out.squeeze()\n",
        "                # sum the tensor\n",
        "                context = torch.sum(weighted_encoder_hidden_states, dim=0).view(1, 1, -1)\n",
        "                # concat the context vector with the hidden state\n",
        "                combined_tensor = torch.concat([context, hidden[0]], dim=-1)\n",
        "                logits = self.linear(combined_tensor)\n",
        "                all_outputs.append(logits)\n",
        "        else:\n",
        "            start_token = self.word_to_tensor('<SOS>')\n",
        "            # run through embedding layer\n",
        "            prev_char = start_token\n",
        "            for i in range(self.max_response_length):\n",
        "                if prev_char.item() == 1:\n",
        "                    break\n",
        "                embeds = self.embeddings(prev_char).to(self.device)\n",
        "                out, hidden = self.LSTM(embeds.view(1, 1, -1), hidden)\n",
        "                attn_scores = self.general_attn_layer(encoder_out) @ hidden[0].squeeze()\n",
        "                softmaxed_scores = torch.nn.functional.softmax(attn_scores, dim=0)\n",
        "                weighted_encoder_hidden_states = softmaxed_scores * encoder_out.squeeze()\n",
        "                context = torch.sum(weighted_encoder_hidden_states, dim=0).view(1, 1, -1)\n",
        "                combined_tensor = torch.concat([context, hidden[0]], dim=-1)\n",
        "                logits = self.linear(combined_tensor)\n",
        "                all_outputs.append(logits)\n",
        "                pred_idx = torch.argmax(logits, dim=2).item()\n",
        "                prev_char = torch.tensor(pred_idx, dtype=torch.long, device=self.device)\n",
        "        return torch.cat(all_outputs, dim=0)"
      ]
    },
    {
      "cell_type": "markdown",
      "id": "14c9a1d2",
      "metadata": {
        "id": "14c9a1d2"
      },
      "source": [
        "### Training / Inference utility functions"
      ]
    },
    {
      "cell_type": "code",
      "execution_count": null,
      "id": "69d1500f",
      "metadata": {
        "id": "69d1500f"
      },
      "outputs": [],
      "source": [
        "## functions to take a sentence and turn it into a tensor, adding <sos> and <eos>\n",
        "def sequence_to_tensor_en(sequence):\n",
        "    '''\n",
        "    takes sequence and converts to tensor\n",
        "    '''\n",
        "    # add \"<SOS> and <EOS>\"\n",
        "    words = get_words_from_sentence(\"<SOS> \" + remove_punctuation(sequence).lower() + \" <EOS>\")\n",
        "\n",
        "    # convert to indices, reverting to <UNK> token\n",
        "    word_indices = [ en_vocab[word] if word in en_vocab else en_vocab[\"<UNK>\"] for word in words ]\n",
        "    return torch.tensor(word_indices, dtype=torch.long)\n",
        "\n",
        "\n",
        "def sequence_to_tensor_zh(sequence):\n",
        "    '''\n",
        "    takes sequence and converts to chinese tensor\n",
        "    '''\n",
        "    words = ([\"<SOS>\"] + list(remove_zh_punctuation(sequence)))\n",
        "    words.append(\"<EOS>\")\n",
        "\n",
        "    word_indices = [ zh_vocab[word] if word in zh_vocab else zh_vocab[\"<UNK>\"] for word in words ]\n",
        "    return torch.tensor(word_indices, dtype=torch.long)\n",
        "\n",
        "def zh_tensor_outputs_to_sentence(output_tensor):\n",
        "    '''\n",
        "    converts a zh_tensor to a string\n",
        "    '''\n",
        "    s = ''\n",
        "    zh_vocab_lst = list(zh_vocab.keys())\n",
        "    for word_tensor in output_tensor:\n",
        "        pred_idx = torch.argmax(word_tensor, dim=-1).item()\n",
        "        s += zh_vocab_lst[pred_idx]\n",
        "    return s"
      ]
    },
    {
      "cell_type": "code",
      "execution_count": null,
      "id": "00b100f9",
      "metadata": {
        "id": "00b100f9"
      },
      "outputs": [],
      "source": [
        "def train(num_epochs, training_data, encoder, decoder, device, save_loss_file, lr=0.001):\n",
        "    optimizer = torch.optim.Adam(\n",
        "    list(encoder.parameters()) + list(decoder.parameters()), lr=lr\n",
        ")\n",
        "    count = 0\n",
        "    total_loss = 0\n",
        "    # see random prediction\n",
        "    predict_en_sequence = \"I love bread\"\n",
        "    predict_en_tensor = sequence_to_tensor_en(predict_en_sequence).to(device)\n",
        "    out, predict_hidden = encoder(predict_en_tensor)\n",
        "    out = out.to(device)\n",
        "    print(zh_tensor_outputs_to_sentence(decoder.forward(predict_hidden, encoder_out=out)))\n",
        "\n",
        "    ## calculate start loss:\n",
        "    first_pair = training_data[0]\n",
        "    english = first_pair['english']\n",
        "    zh = first_pair['chinese']\n",
        "    en_tensor = sequence_to_tensor_en(english).to(device)\n",
        "    zh_tensor = sequence_to_tensor_zh(zh).to(device)\n",
        "\n",
        "    out, hidden = encoder.forward(en_tensor)\n",
        "    target = zh_tensor[1:]\n",
        "    predicted = decoder.forward(hidden, encoder_out=out, sentence=zh_tensor[:-1])\n",
        "\n",
        "    loss = nn.functional.cross_entropy(torch.squeeze(predicted), target)\n",
        "    print(f\"Number of trains {count}\")\n",
        "    print(f\"Loss {loss.item()}\")\n",
        "    with open(save_loss_file, 'a') as f:\n",
        "      f.write(f'{loss.item()}, {count} \\n')\n",
        "    start_time = time.time()\n",
        "    for i in range(num_epochs):\n",
        "        for pair in training_data:\n",
        "            count += 1\n",
        "            if count % 10000 == 0:\n",
        "                # add the loss with count to it\n",
        "                with open(save_loss_file, 'a') as f:\n",
        "                     f.write(f'{total_loss / 10000}, {count} \\n')\n",
        "                total_loss = 0\n",
        "            english = pair['english']\n",
        "            zh = pair['chinese']\n",
        "            en_tensor = sequence_to_tensor_en(english)\n",
        "            zh_tensor = sequence_to_tensor_zh(zh)\n",
        "            # pass to device\n",
        "            en_tensor = sequence_to_tensor_en(english).to(device)\n",
        "            zh_tensor = sequence_to_tensor_zh(zh).to(device)\n",
        "\n",
        "            out, hidden = encoder.forward(en_tensor)\n",
        "            target = zh_tensor[1:]\n",
        "            predicted = decoder.forward(hidden, encoder_out=out, sentence = zh_tensor[:-1])\n",
        "            loss = nn.functional.cross_entropy(torch.squeeze(predicted), target)\n",
        "            total_loss += loss.item()\n",
        "            optimizer.zero_grad()\n",
        "            loss.backward()\n",
        "            optimizer.step()\n",
        "\n",
        "\n",
        "        out, predict_hidden = encoder(predict_en_tensor)\n",
        "        out = out.to(device)\n",
        "        print(zh_tensor_outputs_to_sentence(decoder.forward(predict_hidden, out)))\n",
        "    print(f\"Total training time: {time.time() - start_time}\")"
      ]
    },
    {
      "cell_type": "markdown",
      "id": "5b66fb09",
      "metadata": {
        "id": "5b66fb09"
      },
      "source": [
        "### Setting hyperparameters"
      ]
    },
    {
      "cell_type": "code",
      "execution_count": null,
      "id": "2b85d97e",
      "metadata": {
        "id": "2b85d97e"
      },
      "outputs": [],
      "source": [
        "MAX_RESPONSE_LENGTH=20\n",
        "EMBEDDING_DIM=32\n",
        "HIDDEN_DIM=128\n",
        "device = torch.device(\"cuda\" if torch.cuda.is_available() else \"mps\" if torch.backends.mps.is_available() else \"cpu\")"
      ]
    },
    {
      "cell_type": "markdown",
      "id": "5f392e19",
      "metadata": {
        "id": "5f392e19"
      },
      "source": [
        "## EXPERIMENT: Performance benchmarking\n",
        "\n",
        "- Train two Seq2Seq models that are identical in every respect except for the decoder's final projection layer.\n",
        "  1. Baseline uses nn.Linear\n",
        "  2. NdLinear variant uses NdLinear, and is a smaller linear layer.\n",
        "\n",
        "Hidden dimensions, optimiser settings, training data, and number of epochs are held constant so any performance difference can be attributed solely to the output linear layer.\n",
        "\n",
        "\n",
        "**NOTE**: During training I log a moving-average of training loss every 10 k steps; I skip validation loss to save runtime, since I didn't have any time to spare during training because I was unaware of the moved deadline. We save validation set performance to after both models have been trained."
      ]
    },
    {
      "cell_type": "markdown",
      "id": "ac1f5306",
      "metadata": {
        "id": "ac1f5306"
      },
      "source": [
        "### Baseline model (nn.Linear)"
      ]
    },
    {
      "cell_type": "code",
      "execution_count": null,
      "id": "4CqkQzcjE3aX",
      "metadata": {
        "colab": {
          "base_uri": "https://localhost:8080/"
        },
        "id": "4CqkQzcjE3aX",
        "outputId": "e6ad8e0a-3552-4eff-9120-3caf4f396422"
      },
      "outputs": [
        {
          "output_type": "stream",
          "name": "stdout",
          "text": [
            "Thu May  1 01:06:16 2025       \n",
            "+-----------------------------------------------------------------------------------------+\n",
            "| NVIDIA-SMI 550.54.15              Driver Version: 550.54.15      CUDA Version: 12.4     |\n",
            "|-----------------------------------------+------------------------+----------------------+\n",
            "| GPU  Name                 Persistence-M | Bus-Id          Disp.A | Volatile Uncorr. ECC |\n",
            "| Fan  Temp   Perf          Pwr:Usage/Cap |           Memory-Usage | GPU-Util  Compute M. |\n",
            "|                                         |                        |               MIG M. |\n",
            "|=========================================+========================+======================|\n",
            "|   0  Tesla T4                       Off |   00000000:00:04.0 Off |                    0 |\n",
            "| N/A   35C    P8              9W /   70W |       2MiB /  15360MiB |      0%      Default |\n",
            "|                                         |                        |                  N/A |\n",
            "+-----------------------------------------+------------------------+----------------------+\n",
            "                                                                                         \n",
            "+-----------------------------------------------------------------------------------------+\n",
            "| Processes:                                                                              |\n",
            "|  GPU   GI   CI        PID   Type   Process name                              GPU Memory |\n",
            "|        ID   ID                                                               Usage      |\n",
            "|=========================================================================================|\n",
            "|  No running processes found                                                             |\n",
            "+-----------------------------------------------------------------------------------------+\n"
          ]
        }
      ],
      "source": [
        "## check colab gpu\n",
        "!nvidia-smi"
      ]
    },
    {
      "cell_type": "code",
      "execution_count": null,
      "id": "236b12a8",
      "metadata": {
        "colab": {
          "base_uri": "https://localhost:8080/"
        },
        "id": "236b12a8",
        "outputId": "ad95081f-6958-4f37-dfc4-506d40f34564"
      },
      "outputs": [
        {
          "name": "stdout",
          "output_type": "stream",
          "text": [
            "cuda\n",
            "玩石忆跋匈沸禹锯勲榻讷讷蒴蒴蒴咳讶搐玩石\n",
            "Number of trains 0\n",
            "Loss 8.679813385009766\n",
            "Number of trains 10000\n",
            "Loss 5.9435648654699325\n",
            "Number of trains 20000\n",
            "Loss 5.348671986603737\n",
            "Number of trains 30000\n",
            "Loss 5.137021565628052\n",
            "Number of trains 40000\n",
            "Loss 5.006373838460445\n",
            "Number of trains 50000\n",
            "Loss 4.900856076061726\n",
            "Number of trains 60000\n",
            "Loss 4.843751321041584\n",
            "Number of trains 70000\n",
            "Loss 4.786635821342468\n",
            "Number of trains 80000\n",
            "Loss 4.729067821955681\n",
            "Number of trains 90000\n",
            "Loss 4.702692483878136\n",
            "Number of trains 100000\n",
            "Loss 4.638772855591774\n",
            "Number of trains 110000\n",
            "Loss 4.621080605620146\n",
            "Number of trains 120000\n",
            "Loss 4.588877385520935\n",
            "Number of trains 130000\n",
            "Loss 4.5763243444442745\n",
            "Number of trains 140000\n",
            "Loss 4.53042227088213\n",
            "Number of trains 150000\n",
            "Loss 4.518346245837211\n",
            "Number of trains 160000\n",
            "Loss 4.494908419442177\n",
            "Number of trains 170000\n",
            "Loss 4.477072837495804\n",
            "Number of trains 180000\n",
            "Loss 4.469467745304108\n",
            "Number of trains 190000\n",
            "Loss 4.444072333800793\n",
            "Number of trains 200000\n",
            "Loss 4.410186759138107\n",
            "Number of trains 210000\n",
            "Loss 4.430119042325019\n",
            "Number of trains 220000\n",
            "Loss 4.4002785675168035\n",
            "Number of trains 230000\n",
            "Loss 4.397193965864181\n",
            "Number of trains 240000\n",
            "Loss 4.383794061505794\n",
            "Number of trains 250000\n",
            "Loss 4.395872369170189\n",
            "我爱了我爱<EOS>\n",
            "Number of trains 260000\n",
            "Loss 4.349755913317203\n",
            "Number of trains 270000\n",
            "Loss 4.344513550996781\n",
            "Number of trains 280000\n",
            "Loss 4.3392018377065655\n",
            "Number of trains 290000\n",
            "Loss 4.322423056292534\n",
            "Number of trains 300000\n",
            "Loss 4.30742332919836\n",
            "Number of trains 310000\n",
            "Loss 4.307936585950851\n",
            "Number of trains 320000\n",
            "Loss 4.304477398741246\n",
            "Number of trains 330000\n",
            "Loss 4.286686288815737\n",
            "Number of trains 340000\n",
            "Loss 4.2942237288236615\n",
            "Number of trains 350000\n",
            "Loss 4.258873951029778\n",
            "Number of trains 360000\n",
            "Loss 4.270175814539194\n",
            "Number of trains 370000\n",
            "Loss 4.25665126940012\n",
            "Number of trains 380000\n",
            "Loss 4.265329765999317\n",
            "Number of trains 390000\n",
            "Loss 4.2312719706177715\n",
            "Number of trains 400000\n",
            "Loss 4.240228617683053\n",
            "Number of trains 410000\n",
            "Loss 4.2271248987019066\n",
            "Number of trains 420000\n",
            "Loss 4.216179714548588\n",
            "Number of trains 430000\n",
            "Loss 4.221012451529503\n",
            "Number of trains 440000\n",
            "Loss 4.205525819277764\n",
            "Number of trains 450000\n",
            "Loss 4.183180567383766\n",
            "Number of trains 460000\n",
            "Loss 4.211535956889391\n",
            "Number of trains 470000\n",
            "Loss 4.186880596470833\n",
            "Number of trains 480000\n",
            "Loss 4.195213567721844\n",
            "Number of trains 490000\n",
            "Loss 4.185672308635712\n",
            "Number of trains 500000\n",
            "Loss 4.201771478503942\n",
            "我爱了<EOS>\n",
            "Number of trains 510000\n",
            "Loss 4.164966064691543\n",
            "Number of trains 520000\n",
            "Loss 4.170305127173662\n",
            "Number of trains 530000\n",
            "Loss 4.171456173908711\n",
            "Number of trains 540000\n",
            "Loss 4.1600712940216065\n",
            "Number of trains 550000\n",
            "Loss 4.1521174338817595\n",
            "Number of trains 560000\n",
            "Loss 4.155727631819248\n",
            "Number of trains 570000\n",
            "Loss 4.164516950416565\n",
            "Number of trains 580000\n",
            "Loss 4.147022616532445\n",
            "Number of trains 590000\n",
            "Loss 4.1560473617553715\n",
            "Number of trains 600000\n",
            "Loss 4.1296977092504505\n",
            "Number of trains 610000\n",
            "Loss 4.1418764549613\n",
            "Number of trains 620000\n",
            "Loss 4.1314333653211595\n",
            "Number of trains 630000\n",
            "Loss 4.141408830964565\n",
            "Number of trains 640000\n",
            "Loss 4.1131193290114405\n",
            "Number of trains 650000\n",
            "Loss 4.127680756285787\n",
            "Number of trains 660000\n",
            "Loss 4.1199074069798\n",
            "Number of trains 670000\n",
            "Loss 4.107204008328915\n",
            "Number of trains 680000\n",
            "Loss 4.119004533571005\n",
            "Number of trains 690000\n",
            "Loss 4.105483645582199\n",
            "Number of trains 700000\n",
            "Loss 4.087583842015267\n",
            "Number of trains 710000\n",
            "Loss 4.113796131742\n",
            "Number of trains 720000\n",
            "Loss 4.095047005540133\n",
            "Number of trains 730000\n",
            "Loss 4.1040182581186295\n",
            "Number of trains 740000\n",
            "Loss 4.0941278001606465\n",
            "Number of trains 750000\n",
            "Loss 4.115691579374671\n",
            "我爱好<EOS>\n",
            "Total training time: 36385.365112781525\n"
          ]
        }
      ],
      "source": [
        "encoder = Encoder(embedding_dim=32, vocab_size=len(en_vocab), hidden_dim=128)\n",
        "linear_layer = nn.Linear(HIDDEN_DIM * 2, len(zh_vocab))\n",
        "decoder = LuongAttnDecoder(embedding_dim=32, vocab_size=len(zh_vocab), hidden_dim=128, device=device, max_response_length=MAX_RESPONSE_LENGTH, linear_layer=linear_layer)\n",
        "print(device)\n",
        "encoder.to(device)\n",
        "decoder.to(device)\n",
        "save_loss_file = root + \"intermediate_steps/experiment1-baseline.txt\"\n",
        "train(3, train_set_mini, encoder, decoder, device, save_loss_file)\n",
        "torch.save(encoder.state_dict(), root + 'trained_models/experiment1_baseline_encoder.pth')\n",
        "torch.save(decoder.state_dict(), root + 'trained_models/experiment2_baseline_decoder.pth')"
      ]
    },
    {
      "cell_type": "markdown",
      "id": "9bEIVK4JRYM8",
      "metadata": {
        "id": "9bEIVK4JRYM8"
      },
      "source": [
        "### NdLinear approach\n",
        "- To take advantage of nd.Linear's strength at multi-dimensional inputs, we change how the context vector is concatenated to the current hidden state. In the original structure, the context vector is essentially just appended to the hidden state, requiring the final linear layer to be (2 * hidden_dim, vocab_size). This presents an easy way to reshape the input tensor to take advantage of NdLinear's strength, by making the output linear layer, an NdLinear layer with input dimensions ((2, hidden_dim)). Hidden dim would have to stay (, vocab size) to map back into words, but needs to be (vocab_size, 1) to satisfy same number of axes. We define the decoder again, but with a slight change to flatten during the output stage."
      ]
    },
    {
      "cell_type": "code",
      "source": [
        "class NdLinearLuongAttnDecoder(nn.Module):\n",
        "    def __init__(self, embedding_dim, vocab_size, hidden_dim, device, max_response_length, linear_layer):\n",
        "        super(NdLinearLuongAttnDecoder, self).__init__()\n",
        "        self.embeddings = nn.Embedding(vocab_size, embedding_dim)\n",
        "        self.LSTM = nn.LSTM(embedding_dim, hidden_dim)\n",
        "        self.linear = linear_layer\n",
        "        self.device = device\n",
        "        self.general_attn_layer = GeneralAttention(hidden_dim)\n",
        "        self.max_response_length = max_response_length\n",
        "        self.hidden_dim = hidden_dim\n",
        "\n",
        "    def word_to_tensor(self, word):\n",
        "        '''\n",
        "        takes a single wrod and gets the corresponding tensor\n",
        "        '''\n",
        "        word_lst = get_words_from_sentence(remove_zh_punctuation(word))\n",
        "        indices = [zh_vocab[word] for word in word_lst]\n",
        "        # get tensor\n",
        "        return torch.tensor(indices, dtype=torch.long).to(self.device)\n",
        "\n",
        "    def forward(self, hidden, encoder_out, sentence=None):\n",
        "        '''\n",
        "        does the forward propagation. If sentence is provided, then we do teacher-forcing. Else we assume it is inference\n",
        "            Params:\n",
        "                hidden: the hidden state passed from the previous\n",
        "                sentence: a sentence to be used for teacher-forcing, as a tensor\n",
        "                Make sure the teacher-forcing sentence is sliced to not include the last token [:-1]\n",
        "        '''\n",
        "        # teacher-forcing training, we are going to \"undo\" vectorization]\n",
        "        all_outputs = []\n",
        "        if sentence is not None:\n",
        "          embeds_tensor = self.embeddings(sentence)\n",
        "          for word_tensor in embeds_tensor:\n",
        "            out, hidden = self.LSTM(word_tensor.view(1, 1, -1), hidden)\n",
        "            # pass encoder out to attention layer\n",
        "            attn_scores = self.general_attn_layer(encoder_out) @ hidden[0].squeeze()\n",
        "            # now with attn scores, we want to softmax the scores\n",
        "            softmaxed_scores = torch.nn.functional.softmax(attn_scores, dim=0)\n",
        "            # multiply by encoder_out\n",
        "            # now that they are softmaxed, we want to multiply by all encoder states to give a weighted tensor, we can broadcast it as well\n",
        "            weighted_encoder_hidden_states = softmaxed_scores * encoder_out.squeeze()\n",
        "            # sum the tensor\n",
        "            context = torch.sum(weighted_encoder_hidden_states, dim=0).view(1, 1, -1)\n",
        "            # concat the context vector with the hidden state\n",
        "            combined_tensor = torch.cat([context, hidden[0]], dim=-1)   # (1,1,2h)\n",
        "            multi_axis = combined_tensor.view(1, 2, self.hidden_dim)\n",
        "\n",
        "            logits = self.linear(multi_axis)\n",
        "            all_outputs.append(logits)\n",
        "        else:\n",
        "            start_token = self.word_to_tensor('<SOS>')\n",
        "            # run through embedding layer\n",
        "            prev_char = start_token\n",
        "            for i in range(self.max_response_length):\n",
        "                if prev_char.item() == 1:\n",
        "                    break\n",
        "                embeds = self.embeddings(prev_char).to(self.device)\n",
        "                out, hidden = self.LSTM(embeds.view(1, 1, -1), hidden)\n",
        "                attn_scores = self.general_attn_layer(encoder_out) @ hidden[0].squeeze()\n",
        "                softmaxed_scores = torch.nn.functional.softmax(attn_scores, dim=0)\n",
        "                weighted_encoder_hidden_states = softmaxed_scores * encoder_out.squeeze()\n",
        "                context = torch.sum(weighted_encoder_hidden_states, dim=0).view(1, 1, -1)\n",
        "                combined_tensor = torch.cat([context, hidden[0]], dim=-1)   # (1,1,2h)\n",
        "                multi_axis = combined_tensor.view(1, 2, self.hidden_dim)\n",
        "\n",
        "                logits = self.linear(multi_axis)\n",
        "                all_outputs.append(logits)\n",
        "                pred_idx = torch.argmax(logits, dim=2).item()\n",
        "                prev_char = torch.tensor(pred_idx, dtype=torch.long, device=self.device)\n",
        "        return torch.cat(all_outputs, dim=0)"
      ],
      "metadata": {
        "id": "qH4HyEk5Y6wm"
      },
      "id": "qH4HyEk5Y6wm",
      "execution_count": null,
      "outputs": []
    },
    {
      "cell_type": "markdown",
      "source": [
        "### NdLinear train"
      ],
      "metadata": {
        "id": "IRta5HXJGpbL"
      },
      "id": "IRta5HXJGpbL"
    },
    {
      "cell_type": "code",
      "execution_count": null,
      "id": "e73fd287",
      "metadata": {
        "id": "e73fd287",
        "colab": {
          "base_uri": "https://localhost:8080/"
        },
        "outputId": "77224792-663d-483b-8d9e-9af5c7a7726a"
      },
      "outputs": [
        {
          "output_type": "stream",
          "name": "stdout",
          "text": [
            "宽宽宽宽宽宽宽宽宽宽宽宽宽宽宽宽宽宽宽宽\n",
            "Number of trains 0\n",
            "Loss 8.632038116455078\n",
            "我爱好好<EOS>\n",
            "我爱爱的爱<EOS>\n",
            "我爱爱<EOS>\n",
            "Total training time: 57447.51138830185\n"
          ]
        }
      ],
      "source": [
        "## define the 2d input_layer nd.Linear layer\n",
        "linear_layer = NdLinear(input_dims=(2, HIDDEN_DIM),hidden_size=(1, len(zh_vocab)))\n",
        "\n",
        "encoder = Encoder(embedding_dim=32, vocab_size=len(en_vocab), hidden_dim=128)\n",
        "decoder = NdLinearLuongAttnDecoder(embedding_dim=32,vocab_size=len(zh_vocab),hidden_dim=128,device=device, max_response_length=MAX_RESPONSE_LENGTH, linear_layer=linear_layer)\n",
        "\n",
        "encoder.to(device)\n",
        "decoder.to(device)\n",
        "\n",
        "save_loss_file = root + \"intermediate_steps/experiment1-ndlinear.txt\"\n",
        "\n",
        "train(3, train_set_mini, encoder, decoder, device,\n",
        "      save_loss_file, checkpoint_every=100000)\n",
        "\n",
        "torch.save(encoder.state_dict(), root + 'trained_models/experiment1_ndlinear_encoder.pth')\n",
        "torch.save(decoder.state_dict(), root + 'trained_models/experiment1_ndlinear_decoder.pth')"
      ]
    },
    {
      "cell_type": "markdown",
      "source": [
        "## Reload models & Prepare for evaluation\n"
      ],
      "metadata": {
        "id": "DHXc4-So4wMk"
      },
      "id": "DHXc4-So4wMk"
    },
    {
      "cell_type": "code",
      "source": [
        "baseline_encoder = Encoder(embedding_dim=32, vocab_size=len(en_vocab), hidden_dim=128)\n",
        "baseline_linear = nn.Linear(HIDDEN_DIM * 2, len(zh_vocab))\n",
        "baseline_decoder = LuongAttnDecoder(embedding_dim=32, vocab_size=len(zh_vocab), hidden_dim=128, device='cuda', max_response_length=MAX_RESPONSE_LENGTH, linear_layer=baseline_linear)\n",
        "baseline_encoder.load_state_dict(torch.load(root + 'trained_models/experiment1_baseline_encoder.pth'))\n",
        "baseline_decoder.load_state_dict(torch.load(root + 'trained_models/experiment1_baseline_decoder.pth'))\n",
        "\n",
        "baseline_encoder.eval()\n",
        "baseline_decoder.eval()"
      ],
      "metadata": {
        "colab": {
          "base_uri": "https://localhost:8080/"
        },
        "id": "8pW18DEQ4ylX",
        "outputId": "b57b75e5-1c43-40ce-a772-c5435d24af75"
      },
      "id": "8pW18DEQ4ylX",
      "execution_count": null,
      "outputs": [
        {
          "output_type": "execute_result",
          "data": {
            "text/plain": [
              "LuongAttnDecoder(\n",
              "  (embeddings): Embedding(5818, 32)\n",
              "  (LSTM): LSTM(32, 128)\n",
              "  (linear): Linear(in_features=256, out_features=5818, bias=True)\n",
              "  (general_attn_layer): GeneralAttention(\n",
              "    (linear_layer): Linear(in_features=128, out_features=128, bias=False)\n",
              "  )\n",
              ")"
            ]
          },
          "metadata": {},
          "execution_count": 35
        }
      ]
    },
    {
      "cell_type": "code",
      "source": [
        "def translate(encoder, decoder, sequence, device='cuda'):\n",
        "    encoder.to(device)\n",
        "    decoder.to(device)\n",
        "    encoder.eval()\n",
        "    decoder.eval()\n",
        "    with torch.no_grad():\n",
        "        predict_en_tensor = sequence_to_tensor_en(sequence).to(device)\n",
        "        encoder_out, predict_hidden = encoder(predict_en_tensor)\n",
        "        output = decoder.forward(predict_hidden, encoder_out=encoder_out)\n",
        "        print(zh_tensor_outputs_to_sentence(output))\n",
        "\n",
        "sentence = \"He is very tall\"\n",
        "translate(baseline_encoder, baseline_decoder, sentence)\n",
        "translate(encoder, decoder, sentence) # encoder and decoder are the name of ndLinear versions, i know very terrible naming"
      ],
      "metadata": {
        "colab": {
          "base_uri": "https://localhost:8080/"
        },
        "id": "kSRYRvzp5eS1",
        "outputId": "cdf3c9d3-1df7-4494-e7c8-726678cd97a4"
      },
      "id": "kSRYRvzp5eS1",
      "execution_count": null,
      "outputs": [
        {
          "output_type": "stream",
          "name": "stdout",
          "text": [
            "他很高<EOS>\n",
            "他是很少的<EOS>\n"
          ]
        }
      ]
    },
    {
      "cell_type": "markdown",
      "source": [
        "## Results"
      ],
      "metadata": {
        "id": "roxMnb5pHEb-"
      },
      "id": "roxMnb5pHEb-"
    },
    {
      "cell_type": "markdown",
      "source": [
        "### Moving average training loss graph\n",
        "- NOTE: This is NOT validation set loss"
      ],
      "metadata": {
        "id": "NtnV9-ow53R-"
      },
      "id": "NtnV9-ow53R-"
    },
    {
      "cell_type": "code",
      "source": [
        "# import the loss saves\n",
        "def read_and_get_data_points(file):\n",
        "    data = []\n",
        "    try:\n",
        "        with open(file, 'r') as f:\n",
        "            for line in f:\n",
        "                line = line.strip()\n",
        "                split_data = line.split(',')\n",
        "                split_data = [float(point) for point in split_data]\n",
        "                data.append((split_data[0], split_data[1]))\n",
        "        return data\n",
        "    except Exception as e:\n",
        "        print(f\"Error {e}\")\n",
        "\n",
        "baseline_data = read_and_get_data_points(root + './intermediate_steps/experiment1-baseline.txt')\n",
        "ndLinear_data = read_and_get_data_points(root + './intermediate_steps/experiment1-ndlinear.txt')\n",
        "\n",
        "def plot_loss_curves(baseline_data, ndlinear_data=None):\n",
        "    plt.figure(figsize=(10, 6))\n",
        "\n",
        "    baseline_loss, baseline_steps = zip(*baseline_data)\n",
        "    plt.plot(baseline_steps, baseline_loss, label='Baseline (nn.Linear)', marker='o')\n",
        "\n",
        "    nd_loss, nd_steps = zip(*ndlinear_data)\n",
        "    plt.plot(nd_steps, nd_loss, label='NdLinear', marker='x')\n",
        "\n",
        "    plt.xlabel('Number of Sequences trained')\n",
        "    plt.ylabel('Moving Average Traning Loss')\n",
        "    plt.title('Moving Average Training Loss Comparison')\n",
        "    plt.legend()\n",
        "    plt.grid(True)\n",
        "    plt.tight_layout()\n",
        "    plt.show()\n",
        "\n",
        "plot_loss_curves(baseline_data, ndLinear_data)"
      ],
      "metadata": {
        "colab": {
          "base_uri": "https://localhost:8080/",
          "height": 607
        },
        "id": "yKacxKqwKFq_",
        "outputId": "877deea0-fb26-4506-a714-fd96712f8df6"
      },
      "id": "yKacxKqwKFq_",
      "execution_count": null,
      "outputs": [
        {
          "output_type": "display_data",
          "data": {
            "text/plain": [
              "<Figure size 1000x600 with 1 Axes>"
            ],
            "image/png": "[encoded data removed]"
          },
          "metadata": {}
        }
      ]
    },
    {
      "cell_type": "markdown",
      "source": [
        "### Validation Set Evaluation\n",
        "- validate on our validation set of 5000 English Chinese Pairs"
      ],
      "metadata": {
        "id": "SBaRRHqD6Urj"
      },
      "id": "SBaRRHqD6Urj"
    },
    {
      "cell_type": "code",
      "source": [
        "def eval_model_loss(encoder, decoder, dataset, device='cuda'):\n",
        "    encoder.to(device).eval()\n",
        "    decoder.to(device).eval()\n",
        "\n",
        "    total_loss = 0.0\n",
        "    with torch.no_grad():\n",
        "        for pair in dataset:\n",
        "            en_tensor = sequence_to_tensor_en(pair['english']).to(device)\n",
        "            zh_tensor = sequence_to_tensor_zh(pair['chinese']).to(device)\n",
        "\n",
        "            enc_out, enc_hidden = encoder(en_tensor)\n",
        "            logits = decoder(enc_hidden, encoder_out=enc_out,\n",
        "                             sentence=zh_tensor[:-1])\n",
        "            loss = nn.functional.cross_entropy(torch.squeeze(logits),\n",
        "                                   zh_tensor[1:])\n",
        "            total_loss += loss.item()\n",
        "\n",
        "    return total_loss / len(dataset)\n",
        "\n",
        "\n",
        "def eval_both_models(val_set_mini, device='cuda'):\n",
        "    baseline_loss = eval_model_loss(baseline_encoder,\n",
        "                                    baseline_decoder,\n",
        "                                    val_set_mini,\n",
        "                                    device)\n",
        "    ndlinear_loss = eval_model_loss(encoder,\n",
        "                                    decoder,\n",
        "                                    val_set_mini,\n",
        "                                    device)\n",
        "    return {'baseline_loss': baseline_loss,\n",
        "            'ndlinear_loss': ndlinear_loss}"
      ],
      "metadata": {
        "id": "jWWQ-DC85844"
      },
      "id": "jWWQ-DC85844",
      "execution_count": null,
      "outputs": []
    },
    {
      "cell_type": "code",
      "source": [
        "results = eval_both_models(val_set_mini, device=device)\n",
        "print(results)"
      ],
      "metadata": {
        "colab": {
          "base_uri": "https://localhost:8080/"
        },
        "id": "AZNUwflo6YkW",
        "outputId": "0417d79a-54c8-45d7-b101-419e739f9119"
      },
      "id": "AZNUwflo6YkW",
      "execution_count": null,
      "outputs": [
        {
          "output_type": "stream",
          "name": "stdout",
          "text": [
            "{'baseline_loss': 4.145205274963379, 'ndlinear_loss': 4.214421719765663}\n"
          ]
        }
      ]
    },
    {
      "cell_type": "markdown",
      "source": [
        "## 'Vibes' Evaluation\n",
        "- Evaluate both models on general translation 'vibes'.\n",
        "- As a Chinese speaker, I will evaluate both models on simple sentences, and for each translation, choose which one is better"
      ],
      "metadata": {
        "id": "ktGScAso6eCP"
      },
      "id": "ktGScAso6eCP"
    },
    {
      "cell_type": "code",
      "source": [
        "sentences = [\n",
        "    \"I love to eat.\",\n",
        "    \"My best friend's friend is your friend.\",\n",
        "    \"The apple doesn't fall far from the tree\",\n",
        "    \"He cried tears of joy\",\n",
        "    \"Do not forget.\",\n",
        "    \"I spy with my little eye.\",\n",
        "    \"What is your name?\",\n",
        "    \"I hate apples.\",\n",
        "    \"Is this the end?\",\n",
        "    \"I am finally done with work.\"\n",
        "]\n",
        "def vibes_test():\n",
        "    for idx, sentence in enumerate(sentences):\n",
        "        print(f\"Sentence {idx + 1}\")\n",
        "        print(\"nn.Linear:\")\n",
        "        translate(baseline_encoder, baseline_decoder, sentence, device=device)\n",
        "        print(\"NdLinear:\")\n",
        "        translate(encoder, decoder, sentence, device=device)\n",
        "vibes_test()"
      ],
      "metadata": {
        "colab": {
          "base_uri": "https://localhost:8080/"
        },
        "id": "TUKeEe8I6ebN",
        "outputId": "6dea08ad-214d-43d6-9064-1fe0c18eb9a6"
      },
      "id": "TUKeEe8I6ebN",
      "execution_count": null,
      "outputs": [
        {
          "output_type": "stream",
          "name": "stdout",
          "text": [
            "Sentence 1\n",
            "nn.Linear:\n",
            "我爱吃吃饭<EOS>\n",
            "NdLinear:\n",
            "我爱我喜欢<EOS>\n",
            "Sentence 2\n",
            "nn.Linear:\n",
            "我的最好朋友朋友朋友<EOS>\n",
            "NdLinear:\n",
            "我的朋友是朋友朋友<EOS>\n",
            "Sentence 3\n",
            "nn.Linear:\n",
            "苹果不会从树上的树子<EOS>\n",
            "NdLinear:\n",
            "苹果不远远远远远远远远远远远远远远远远远\n",
            "Sentence 4\n",
            "nn.Linear:\n",
            "他是泪的泪<EOS>\n",
            "NdLinear:\n",
            "他哭泣的泪<EOS>\n",
            "Sentence 5\n",
            "nn.Linear:\n",
            "不要忘记<EOS>\n",
            "NdLinear:\n",
            "不要忘记<EOS>\n",
            "Sentence 6\n",
            "nn.Linear:\n",
            "我的小眼睛我的眼睛<EOS>\n",
            "NdLinear:\n",
            "我的小眼睛我的眼睛<EOS>\n",
            "Sentence 7\n",
            "nn.Linear:\n",
            "你是什么名字<EOS>\n",
            "NdLinear:\n",
            "你的名字是什么<EOS>\n",
            "Sentence 8\n",
            "nn.Linear:\n",
            "我讨厌的<EOS>\n",
            "NdLinear:\n",
            "我恨我们我喜欢苹果<EOS>\n",
            "Sentence 9\n",
            "nn.Linear:\n",
            "这是这个这是这个这个这个这是这个这个这个\n",
            "NdLinear:\n",
            "这是这个图书<EOS>\n",
            "Sentence 10\n",
            "nn.Linear:\n",
            "我最终在做了工作<EOS>\n",
            "NdLinear:\n",
            "我最后一个工作<EOS>\n"
          ]
        }
      ]
    },
    {
      "cell_type": "markdown",
      "source": [
        "### Vibes Test Results:\n",
        "\n",
        "- nn.Linear did better on 5/10 sentences (1, 2, 8, 9 10).\n",
        "- NdLinear did better on 3/10 sentences (3, 4, 7).\n",
        "- They did the same on 2/10 sentences (5, 6)"
      ],
      "metadata": {
        "id": "G32nzzn36jAq"
      },
      "id": "G32nzzn36jAq"
    },
    {
      "cell_type": "markdown",
      "source": [
        "## Conclusion"
      ],
      "metadata": {
        "id": "TWy_cXbu6mzv"
      },
      "id": "TWy_cXbu6mzv"
    },
    {
      "cell_type": "markdown",
      "source": [
        "The NdLinear approach employed in this experiment represents a large reduction in the parameter count of the output projection linear layer. Given that the reduction is ~50%:\n",
        "\n",
        "$$\n",
        "2 H × V = 2 * 128 * 5818 = 1,489,408\n",
        "$$\n",
        "\n",
        "vs.\n",
        "\n",
        "$$\n",
        "(2 * 1) + (H * V) = 2 + (128 * 5818) = 744,706\n",
        "$$\n",
        "\n",
        "It would not be surprising to see a significant drop in model performance in the NdLinear version. This is especially true given the importance of this projection layer as it is the layer that learns the mapping from decoder LSTM outputs to words in the vocabulary.\n",
        "\n",
        "However, from the results of the experiment we can see that the NdLinear layer, even with 50% of the parameters of the baseline layer, performs similarly. In terms of rate of learning and convergence, from the moving average training loss graph, we can see that NdLinear trails slightly behind the nn.Linear version, but at the end of epoch 3 the difference is very small, at 0.062.\n",
        "\n",
        "Looking at the performance on the validation set, we can see that the NdLinear experiment performs only slightly worse, a difference of 0.0692 on average for cross entropy loss. This small difference is not really significant enough to tell a qualitative difference in translation quality. This is supported by our \"vibes\" translation test, in which the NdLinear model actually seems to have better translations in 3/10\n",
        "(sentence 3, 4, 7) examples, and exactly the same in 2/10 examples (5, 6).\n",
        "\n",
        "These results suggest that for a 750 k-pair dataset, replacing nn.Linear(2 H, V) with NdLinear((2, H),(1, V)) can cut projection weights by ≈50 % without a noticeable loss in translation quality. Future work should confirm this on larger dataset and report BLEU score for a more rigorous comparison."
      ],
      "metadata": {
        "id": "2KRNWY0V6q62"
      },
      "id": "2KRNWY0V6q62"
    },
    {
      "cell_type": "markdown",
      "source": [
        "### Ideas for further research\n",
        "\n",
        "One natural next step would be to evaluate an NdLinear layer with the same number of parameters as the standard nn.Linear layer. Given that the NdLinear layer performed comparably even with 50% fewer parameters, it would not be surprising if a parameter matched NdLinear layer outperformed the baseline due to its structured design.\n",
        "\n",
        "Another interesting direction would be to extend the use of higher dimensional inputs. In this experiment, we used an input shape of (2, hidden_dim). Future studies could experiment with reshaping inputs into even higher-dimensional matrices—such as (4, hidden_dim // 2) or (2, 2, hidden_dim // 2)—to explore whether the model can learn something interesting from this artificial structure.\n",
        "\n",
        "Finally, it would be interesting to scale this experiment to a larger dataset to assess whether the observed benefits of NdLinear hold under more demanding training conditions. Larger datasets and longer training schedules could reveal further differences in generalization and convergence."
      ],
      "metadata": {
        "id": "883zejtj6u5V"
      },
      "id": "883zejtj6u5V"
    },
    {
      "cell_type": "markdown",
      "source": [
        "Thanks for reading, this was a really interesting experiment :)"
      ],
      "metadata": {
        "id": "_6p2Wt9F6xN_"
      },
      "id": "_6p2Wt9F6xN_"
    }
  ],
  "metadata": {
    "colab": {
      "provenance": [],
      "gpuType": "T4",
      "include_colab_link": true
    },
    "kernelspec": {
      "display_name": "Python 3",
      "name": "python3"
    },
    "language_info": {
      "codemirror_mode": {
        "name": "ipython",
        "version": 3
      },
      "file_extension": ".py",
      "mimetype": "text/x-python",
      "name": "python",
      "nbconvert_exporter": "python",
      "pygments_lexer": "ipython3",
      "version": "3.12.2"
    },
    "accelerator": "GPU"
  },
  "nbformat": 4,
  "nbformat_minor": 5
}